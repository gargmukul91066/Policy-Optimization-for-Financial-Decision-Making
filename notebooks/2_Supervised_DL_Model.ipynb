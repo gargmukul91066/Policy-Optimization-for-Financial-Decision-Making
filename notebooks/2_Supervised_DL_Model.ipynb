{
  "nbformat": 4,
  "nbformat_minor": 0,
  "metadata": {
    "colab": {
      "provenance": []
    },
    "kernelspec": {
      "name": "python3",
      "display_name": "Python 3"
    },
    "language_info": {
      "name": "python"
    }
  },
  "cells": [
    {
      "cell_type": "code",
      "execution_count": 2,
      "metadata": {
        "id": "ft-hZpbD6bU0"
      },
      "outputs": [],
      "source": [
        "# Import Dependencies and Configure Environment\n",
        "import os, random\n",
        "import numpy as np, pandas as pd\n",
        "import tensorflow as tf\n",
        "from sklearn.model_selection import train_test_split\n",
        "from sklearn.metrics import (\n",
        "    roc_auc_score, accuracy_score, f1_score,\n",
        "    confusion_matrix, classification_report, roc_curve\n",
        ")\n",
        "import matplotlib.pyplot as plt\n",
        "import seaborn as sns\n",
        "from imblearn.over_sampling import RandomOverSampler\n",
        "from tensorflow.keras.models import Sequential\n",
        "from tensorflow.keras.layers import Dense, Dropout, BatchNormalization\n",
        "from tensorflow.keras.callbacks import EarlyStopping, ModelCheckpoint\n",
        "from tensorflow.keras import regularizers\n",
        "import warnings\n",
        "warnings.filterwarnings('ignore')\n",
        "\n",
        "# Reproducibility\n",
        "RND = 42\n",
        "os.environ['PYTHONHASHSEED'] = str(RND)\n",
        "np.random.seed(RND)\n",
        "random.seed(RND)\n",
        "tf.random.set_seed(RND)\n"
      ]
    },
    {
      "cell_type": "code",
      "source": [
        "# Load and Inspect Dataset\n",
        "df = pd.read_csv(\"processed_loan_data.csv\", low_memory=False)\n",
        "non_numeric = df.select_dtypes(exclude=[np.number]).columns.tolist()\n",
        "print(\"Non-numeric columns:\", non_numeric)\n"
      ],
      "metadata": {
        "colab": {
          "base_uri": "https://localhost:8080/"
        },
        "id": "SzKL6QeQA6m-",
        "outputId": "db68b0c3-7d57-4022-dedd-4bb25c627767"
      },
      "execution_count": 3,
      "outputs": [
        {
          "output_type": "stream",
          "name": "stdout",
          "text": [
            "Non-numeric columns: ['term_ 60 months', 'grade_B', 'grade_C', 'grade_D', 'grade_E', 'grade_F', 'grade_G', 'home_ownership_MORTGAGE', 'home_ownership_NONE', 'home_ownership_OTHER', 'home_ownership_OWN', 'home_ownership_RENT', 'purpose_credit_card', 'purpose_debt_consolidation', 'purpose_educational', 'purpose_home_improvement', 'purpose_house', 'purpose_major_purchase', 'purpose_medical', 'purpose_moving', 'purpose_other', 'purpose_renewable_energy', 'purpose_small_business', 'purpose_vacation', 'purpose_wedding', 'verification_status_Source Verified', 'verification_status_Verified']\n"
          ]
        }
      ]
    },
    {
      "cell_type": "code",
      "source": [
        "# Data Cleaning and Preprocessing\n",
        "import datetime\n",
        "\n",
        "# Convert earliest credit line to numeric age in years\n",
        "if 'earliest_cr_line' in df.columns:\n",
        "    df['earliest_cr_line'] = pd.to_datetime(df['earliest_cr_line'], errors='coerce')\n",
        "    today = datetime.datetime(2019, 1, 1)\n",
        "    df['credit_age_years'] = (today - df['earliest_cr_line']).dt.days / 365.25\n",
        "    df.drop(columns=['earliest_cr_line'], inplace=True)\n",
        "\n",
        "# Convert boolean columns to integers\n",
        "bool_cols = df.select_dtypes(include=['bool']).columns.tolist()\n",
        "if bool_cols:\n",
        "    df[bool_cols] = df[bool_cols].astype(int)\n",
        "\n",
        "# Force all columns to numeric, replace NaN with 0\n",
        "df = df.apply(pd.to_numeric, errors='coerce').fillna(0)\n"
      ],
      "metadata": {
        "id": "pokwlFuKBogF"
      },
      "execution_count": 4,
      "outputs": []
    },
    {
      "cell_type": "code",
      "source": [
        "# Data Type Validation and Summary Statistics\n",
        "assert df.select_dtypes(exclude=[np.number]).empty, \"Non-numeric columns still exist\"\n",
        "print(\"Final shape:\", df.shape)\n",
        "print(df.info())\n",
        "print(df.describe().T.head(10))\n"
      ],
      "metadata": {
        "colab": {
          "base_uri": "https://localhost:8080/"
        },
        "id": "OlgiyyEoCIDF",
        "outputId": "fdfbcc67-802c-4fdc-9c6b-1595e4d1ee52"
      },
      "execution_count": 5,
      "outputs": [
        {
          "output_type": "stream",
          "name": "stdout",
          "text": [
            "Final shape: (1803164, 42)\n",
            "<class 'pandas.core.frame.DataFrame'>\n",
            "RangeIndex: 1803164 entries, 0 to 1803163\n",
            "Data columns (total 42 columns):\n",
            " #   Column                               Dtype  \n",
            "---  ------                               -----  \n",
            " 0   loan_amnt                            float64\n",
            " 1   funded_amnt                          float64\n",
            " 2   int_rate                             float64\n",
            " 3   installment                          float64\n",
            " 4   annual_inc                           float64\n",
            " 5   dti                                  float64\n",
            " 6   delinq_2yrs                          float64\n",
            " 7   inq_last_6mths                       float64\n",
            " 8   open_acc                             float64\n",
            " 9   pub_rec                              float64\n",
            " 10  revol_bal                            float64\n",
            " 11  revol_util                           float64\n",
            " 12  total_acc                            float64\n",
            " 13  emp_length                           float64\n",
            " 14  target                               float64\n",
            " 15  term_ 60 months                      float64\n",
            " 16  grade_B                              float64\n",
            " 17  grade_C                              float64\n",
            " 18  grade_D                              float64\n",
            " 19  grade_E                              float64\n",
            " 20  grade_F                              float64\n",
            " 21  grade_G                              float64\n",
            " 22  home_ownership_MORTGAGE              float64\n",
            " 23  home_ownership_NONE                  float64\n",
            " 24  home_ownership_OTHER                 float64\n",
            " 25  home_ownership_OWN                   float64\n",
            " 26  home_ownership_RENT                  float64\n",
            " 27  purpose_credit_card                  float64\n",
            " 28  purpose_debt_consolidation           float64\n",
            " 29  purpose_educational                  float64\n",
            " 30  purpose_home_improvement             float64\n",
            " 31  purpose_house                        float64\n",
            " 32  purpose_major_purchase               float64\n",
            " 33  purpose_medical                      float64\n",
            " 34  purpose_moving                       float64\n",
            " 35  purpose_other                        float64\n",
            " 36  purpose_renewable_energy             float64\n",
            " 37  purpose_small_business               float64\n",
            " 38  purpose_vacation                     float64\n",
            " 39  purpose_wedding                      float64\n",
            " 40  verification_status_Source Verified  float64\n",
            " 41  verification_status_Verified         float64\n",
            "dtypes: float64(42)\n",
            "memory usage: 577.8 MB\n",
            "None\n",
            "                    count          mean       std       min       25%  \\\n",
            "loan_amnt       1803164.0  2.670105e-17  0.863654 -1.596904 -0.535680   \n",
            "funded_amnt     1803164.0  9.187747e-17  0.863654 -1.596659 -0.537826   \n",
            "int_rate        1803164.0  2.446283e-17  0.863654 -1.662857 -0.471691   \n",
            "installment     1803164.0  1.548472e-16  0.863654 -1.656332 -0.553911   \n",
            "annual_inc      1803164.0  3.148328e-16  0.863654 -1.090525 -0.347079   \n",
            "dti             1803164.0  2.307261e-16  0.863654 -1.727771 -0.398071   \n",
            "delinq_2yrs     1803164.0  3.313200e-17  0.863654 -0.361968 -0.361968   \n",
            "inq_last_6mths  1803164.0 -4.706179e-17  0.863654 -0.698608 -0.698608   \n",
            "open_acc        1803164.0 -4.539494e-17  0.863654 -2.118093 -0.473914   \n",
            "pub_rec         1803164.0  4.640372e-17  0.863654 -0.357695 -0.357695   \n",
            "\n",
            "                     50%       75%         max  \n",
            "loan_amnt       0.000000  0.238726    2.934809  \n",
            "funded_amnt     0.000000  0.239800    2.937101  \n",
            "int_rate        0.000000  0.293760    3.722558  \n",
            "installment     0.000000  0.225752    4.901670  \n",
            "annual_inc      0.000000  0.053362  156.213739  \n",
            "dti             0.000000  0.300828   87.874672  \n",
            "delinq_2yrs    -0.361968  0.000000   44.055022  \n",
            "inq_last_6mths  0.000000  0.367686    7.831741  \n",
            "open_acc        0.000000  0.256832   14.323694  \n",
            "pub_rec        -0.357695  0.000000  142.518770  \n"
          ]
        }
      ]
    },
    {
      "cell_type": "code",
      "source": [
        "# Define Features and Target Variable\n",
        "X = df.drop(columns=['target']).values.astype(np.float32)\n",
        "y = df['target'].astype(int).values\n",
        "print(f\"Shape: {X.shape}, Default rate: {y.mean():.3f}\")\n"
      ],
      "metadata": {
        "colab": {
          "base_uri": "https://localhost:8080/"
        },
        "id": "0QtN19-aEZjx",
        "outputId": "14d882f6-138e-4889-9b82-6557eeb2cbac"
      },
      "execution_count": 6,
      "outputs": [
        {
          "output_type": "stream",
          "name": "stdout",
          "text": [
            "Shape: (1803164, 41), Default rate: 0.149\n"
          ]
        }
      ]
    },
    {
      "cell_type": "code",
      "source": [
        "# Split Data into Train, Validation, and Test Sets\n",
        "X_train, X_temp, y_train, y_temp = train_test_split(\n",
        "    X, y, test_size=0.30, stratify=y, random_state=RND\n",
        ")\n",
        "X_val, X_test, y_val, y_test = train_test_split(\n",
        "    X_temp, y_temp, test_size=0.50, stratify=y_temp, random_state=RND\n",
        ")\n"
      ],
      "metadata": {
        "id": "Cl87Gn5CCMr2"
      },
      "execution_count": 7,
      "outputs": []
    },
    {
      "cell_type": "code",
      "source": [
        "# Handle Class Imbalance using RandomOverSampler\n",
        "ros = RandomOverSampler(random_state=RND)\n",
        "X_train_res, y_train_res = ros.fit_resample(X_train, y_train)\n",
        "print(\"Training balance:\", np.bincount(y_train_res))\n"
      ],
      "metadata": {
        "colab": {
          "base_uri": "https://localhost:8080/"
        },
        "id": "dohLfFIiO1jk",
        "outputId": "48dcdf53-eb78-4ab9-d435-a64c98cc5d4a"
      },
      "execution_count": 8,
      "outputs": [
        {
          "output_type": "stream",
          "name": "stdout",
          "text": [
            "Training balance: [1074245 1074245]\n"
          ]
        }
      ]
    },
    {
      "cell_type": "code",
      "source": [
        "# Define the MLP Model Architecture\n",
        "def build_mlp(input_dim, hidden=[256, 128, 64], dropout=0.3, l2=1e-5):\n",
        "    model = Sequential()\n",
        "    for i, h in enumerate(hidden):\n",
        "        if i == 0:\n",
        "            model.add(Dense(h, input_dim=input_dim, activation='relu',\n",
        "                            kernel_regularizer=regularizers.l2(l2)))\n",
        "        else:\n",
        "            model.add(Dense(h, activation='relu', kernel_regularizer=regularizers.l2(l2)))\n",
        "        model.add(BatchNormalization())\n",
        "        model.add(Dropout(dropout))\n",
        "    model.add(Dense(1, activation='sigmoid'))\n",
        "    model.compile(\n",
        "        optimizer=tf.keras.optimizers.Adam(learning_rate=1e-3),\n",
        "        loss='binary_crossentropy',\n",
        "        metrics=[tf.keras.metrics.AUC(name='auc')]\n",
        "    )\n",
        "    return model\n",
        "\n",
        "model = build_mlp(X_train_res.shape[1])\n",
        "model.summary()\n"
      ],
      "metadata": {
        "colab": {
          "base_uri": "https://localhost:8080/",
          "height": 497
        },
        "id": "rbI9Pa85EWzO",
        "outputId": "0b44057f-15a4-4d36-8c94-99495551af5a"
      },
      "execution_count": 9,
      "outputs": [
        {
          "output_type": "display_data",
          "data": {
            "text/plain": [
              "\u001b[1mModel: \"sequential\"\u001b[0m\n"
            ],
            "text/html": [
              "<pre style=\"white-space:pre;overflow-x:auto;line-height:normal;font-family:Menlo,'DejaVu Sans Mono',consolas,'Courier New',monospace\"><span style=\"font-weight: bold\">Model: \"sequential\"</span>\n",
              "</pre>\n"
            ]
          },
          "metadata": {}
        },
        {
          "output_type": "display_data",
          "data": {
            "text/plain": [
              "┏━━━━━━━━━━━━━━━━━━━━━━━━━━━━━━━━━┳━━━━━━━━━━━━━━━━━━━━━━━━┳━━━━━━━━━━━━━━━┓\n",
              "┃\u001b[1m \u001b[0m\u001b[1mLayer (type)                   \u001b[0m\u001b[1m \u001b[0m┃\u001b[1m \u001b[0m\u001b[1mOutput Shape          \u001b[0m\u001b[1m \u001b[0m┃\u001b[1m \u001b[0m\u001b[1m      Param #\u001b[0m\u001b[1m \u001b[0m┃\n",
              "┡━━━━━━━━━━━━━━━━━━━━━━━━━━━━━━━━━╇━━━━━━━━━━━━━━━━━━━━━━━━╇━━━━━━━━━━━━━━━┩\n",
              "│ dense (\u001b[38;5;33mDense\u001b[0m)                   │ (\u001b[38;5;45mNone\u001b[0m, \u001b[38;5;34m256\u001b[0m)            │        \u001b[38;5;34m10,752\u001b[0m │\n",
              "├─────────────────────────────────┼────────────────────────┼───────────────┤\n",
              "│ batch_normalization             │ (\u001b[38;5;45mNone\u001b[0m, \u001b[38;5;34m256\u001b[0m)            │         \u001b[38;5;34m1,024\u001b[0m │\n",
              "│ (\u001b[38;5;33mBatchNormalization\u001b[0m)            │                        │               │\n",
              "├─────────────────────────────────┼────────────────────────┼───────────────┤\n",
              "│ dropout (\u001b[38;5;33mDropout\u001b[0m)               │ (\u001b[38;5;45mNone\u001b[0m, \u001b[38;5;34m256\u001b[0m)            │             \u001b[38;5;34m0\u001b[0m │\n",
              "├─────────────────────────────────┼────────────────────────┼───────────────┤\n",
              "│ dense_1 (\u001b[38;5;33mDense\u001b[0m)                 │ (\u001b[38;5;45mNone\u001b[0m, \u001b[38;5;34m128\u001b[0m)            │        \u001b[38;5;34m32,896\u001b[0m │\n",
              "├─────────────────────────────────┼────────────────────────┼───────────────┤\n",
              "│ batch_normalization_1           │ (\u001b[38;5;45mNone\u001b[0m, \u001b[38;5;34m128\u001b[0m)            │           \u001b[38;5;34m512\u001b[0m │\n",
              "│ (\u001b[38;5;33mBatchNormalization\u001b[0m)            │                        │               │\n",
              "├─────────────────────────────────┼────────────────────────┼───────────────┤\n",
              "│ dropout_1 (\u001b[38;5;33mDropout\u001b[0m)             │ (\u001b[38;5;45mNone\u001b[0m, \u001b[38;5;34m128\u001b[0m)            │             \u001b[38;5;34m0\u001b[0m │\n",
              "├─────────────────────────────────┼────────────────────────┼───────────────┤\n",
              "│ dense_2 (\u001b[38;5;33mDense\u001b[0m)                 │ (\u001b[38;5;45mNone\u001b[0m, \u001b[38;5;34m64\u001b[0m)             │         \u001b[38;5;34m8,256\u001b[0m │\n",
              "├─────────────────────────────────┼────────────────────────┼───────────────┤\n",
              "│ batch_normalization_2           │ (\u001b[38;5;45mNone\u001b[0m, \u001b[38;5;34m64\u001b[0m)             │           \u001b[38;5;34m256\u001b[0m │\n",
              "│ (\u001b[38;5;33mBatchNormalization\u001b[0m)            │                        │               │\n",
              "├─────────────────────────────────┼────────────────────────┼───────────────┤\n",
              "│ dropout_2 (\u001b[38;5;33mDropout\u001b[0m)             │ (\u001b[38;5;45mNone\u001b[0m, \u001b[38;5;34m64\u001b[0m)             │             \u001b[38;5;34m0\u001b[0m │\n",
              "├─────────────────────────────────┼────────────────────────┼───────────────┤\n",
              "│ dense_3 (\u001b[38;5;33mDense\u001b[0m)                 │ (\u001b[38;5;45mNone\u001b[0m, \u001b[38;5;34m1\u001b[0m)              │            \u001b[38;5;34m65\u001b[0m │\n",
              "└─────────────────────────────────┴────────────────────────┴───────────────┘\n"
            ],
            "text/html": [
              "<pre style=\"white-space:pre;overflow-x:auto;line-height:normal;font-family:Menlo,'DejaVu Sans Mono',consolas,'Courier New',monospace\">┏━━━━━━━━━━━━━━━━━━━━━━━━━━━━━━━━━┳━━━━━━━━━━━━━━━━━━━━━━━━┳━━━━━━━━━━━━━━━┓\n",
              "┃<span style=\"font-weight: bold\"> Layer (type)                    </span>┃<span style=\"font-weight: bold\"> Output Shape           </span>┃<span style=\"font-weight: bold\">       Param # </span>┃\n",
              "┡━━━━━━━━━━━━━━━━━━━━━━━━━━━━━━━━━╇━━━━━━━━━━━━━━━━━━━━━━━━╇━━━━━━━━━━━━━━━┩\n",
              "│ dense (<span style=\"color: #0087ff; text-decoration-color: #0087ff\">Dense</span>)                   │ (<span style=\"color: #00d7ff; text-decoration-color: #00d7ff\">None</span>, <span style=\"color: #00af00; text-decoration-color: #00af00\">256</span>)            │        <span style=\"color: #00af00; text-decoration-color: #00af00\">10,752</span> │\n",
              "├─────────────────────────────────┼────────────────────────┼───────────────┤\n",
              "│ batch_normalization             │ (<span style=\"color: #00d7ff; text-decoration-color: #00d7ff\">None</span>, <span style=\"color: #00af00; text-decoration-color: #00af00\">256</span>)            │         <span style=\"color: #00af00; text-decoration-color: #00af00\">1,024</span> │\n",
              "│ (<span style=\"color: #0087ff; text-decoration-color: #0087ff\">BatchNormalization</span>)            │                        │               │\n",
              "├─────────────────────────────────┼────────────────────────┼───────────────┤\n",
              "│ dropout (<span style=\"color: #0087ff; text-decoration-color: #0087ff\">Dropout</span>)               │ (<span style=\"color: #00d7ff; text-decoration-color: #00d7ff\">None</span>, <span style=\"color: #00af00; text-decoration-color: #00af00\">256</span>)            │             <span style=\"color: #00af00; text-decoration-color: #00af00\">0</span> │\n",
              "├─────────────────────────────────┼────────────────────────┼───────────────┤\n",
              "│ dense_1 (<span style=\"color: #0087ff; text-decoration-color: #0087ff\">Dense</span>)                 │ (<span style=\"color: #00d7ff; text-decoration-color: #00d7ff\">None</span>, <span style=\"color: #00af00; text-decoration-color: #00af00\">128</span>)            │        <span style=\"color: #00af00; text-decoration-color: #00af00\">32,896</span> │\n",
              "├─────────────────────────────────┼────────────────────────┼───────────────┤\n",
              "│ batch_normalization_1           │ (<span style=\"color: #00d7ff; text-decoration-color: #00d7ff\">None</span>, <span style=\"color: #00af00; text-decoration-color: #00af00\">128</span>)            │           <span style=\"color: #00af00; text-decoration-color: #00af00\">512</span> │\n",
              "│ (<span style=\"color: #0087ff; text-decoration-color: #0087ff\">BatchNormalization</span>)            │                        │               │\n",
              "├─────────────────────────────────┼────────────────────────┼───────────────┤\n",
              "│ dropout_1 (<span style=\"color: #0087ff; text-decoration-color: #0087ff\">Dropout</span>)             │ (<span style=\"color: #00d7ff; text-decoration-color: #00d7ff\">None</span>, <span style=\"color: #00af00; text-decoration-color: #00af00\">128</span>)            │             <span style=\"color: #00af00; text-decoration-color: #00af00\">0</span> │\n",
              "├─────────────────────────────────┼────────────────────────┼───────────────┤\n",
              "│ dense_2 (<span style=\"color: #0087ff; text-decoration-color: #0087ff\">Dense</span>)                 │ (<span style=\"color: #00d7ff; text-decoration-color: #00d7ff\">None</span>, <span style=\"color: #00af00; text-decoration-color: #00af00\">64</span>)             │         <span style=\"color: #00af00; text-decoration-color: #00af00\">8,256</span> │\n",
              "├─────────────────────────────────┼────────────────────────┼───────────────┤\n",
              "│ batch_normalization_2           │ (<span style=\"color: #00d7ff; text-decoration-color: #00d7ff\">None</span>, <span style=\"color: #00af00; text-decoration-color: #00af00\">64</span>)             │           <span style=\"color: #00af00; text-decoration-color: #00af00\">256</span> │\n",
              "│ (<span style=\"color: #0087ff; text-decoration-color: #0087ff\">BatchNormalization</span>)            │                        │               │\n",
              "├─────────────────────────────────┼────────────────────────┼───────────────┤\n",
              "│ dropout_2 (<span style=\"color: #0087ff; text-decoration-color: #0087ff\">Dropout</span>)             │ (<span style=\"color: #00d7ff; text-decoration-color: #00d7ff\">None</span>, <span style=\"color: #00af00; text-decoration-color: #00af00\">64</span>)             │             <span style=\"color: #00af00; text-decoration-color: #00af00\">0</span> │\n",
              "├─────────────────────────────────┼────────────────────────┼───────────────┤\n",
              "│ dense_3 (<span style=\"color: #0087ff; text-decoration-color: #0087ff\">Dense</span>)                 │ (<span style=\"color: #00d7ff; text-decoration-color: #00d7ff\">None</span>, <span style=\"color: #00af00; text-decoration-color: #00af00\">1</span>)              │            <span style=\"color: #00af00; text-decoration-color: #00af00\">65</span> │\n",
              "└─────────────────────────────────┴────────────────────────┴───────────────┘\n",
              "</pre>\n"
            ]
          },
          "metadata": {}
        },
        {
          "output_type": "display_data",
          "data": {
            "text/plain": [
              "\u001b[1m Total params: \u001b[0m\u001b[38;5;34m53,761\u001b[0m (210.00 KB)\n"
            ],
            "text/html": [
              "<pre style=\"white-space:pre;overflow-x:auto;line-height:normal;font-family:Menlo,'DejaVu Sans Mono',consolas,'Courier New',monospace\"><span style=\"font-weight: bold\"> Total params: </span><span style=\"color: #00af00; text-decoration-color: #00af00\">53,761</span> (210.00 KB)\n",
              "</pre>\n"
            ]
          },
          "metadata": {}
        },
        {
          "output_type": "display_data",
          "data": {
            "text/plain": [
              "\u001b[1m Trainable params: \u001b[0m\u001b[38;5;34m52,865\u001b[0m (206.50 KB)\n"
            ],
            "text/html": [
              "<pre style=\"white-space:pre;overflow-x:auto;line-height:normal;font-family:Menlo,'DejaVu Sans Mono',consolas,'Courier New',monospace\"><span style=\"font-weight: bold\"> Trainable params: </span><span style=\"color: #00af00; text-decoration-color: #00af00\">52,865</span> (206.50 KB)\n",
              "</pre>\n"
            ]
          },
          "metadata": {}
        },
        {
          "output_type": "display_data",
          "data": {
            "text/plain": [
              "\u001b[1m Non-trainable params: \u001b[0m\u001b[38;5;34m896\u001b[0m (3.50 KB)\n"
            ],
            "text/html": [
              "<pre style=\"white-space:pre;overflow-x:auto;line-height:normal;font-family:Menlo,'DejaVu Sans Mono',consolas,'Courier New',monospace\"><span style=\"font-weight: bold\"> Non-trainable params: </span><span style=\"color: #00af00; text-decoration-color: #00af00\">896</span> (3.50 KB)\n",
              "</pre>\n"
            ]
          },
          "metadata": {}
        }
      ]
    },
    {
      "cell_type": "code",
      "source": [
        "# Set Up Callbacks for Early Stopping and Model Checkpointing\n",
        "es = EarlyStopping(monitor='val_auc', mode='max', patience=8,\n",
        "                   restore_best_weights=True, verbose=1)\n",
        "mc = ModelCheckpoint(\"keras_default_pred.h5\", monitor='val_auc', mode='max',\n",
        "                     save_best_only=True, verbose=1)\n"
      ],
      "metadata": {
        "id": "hk0uraIAEpca"
      },
      "execution_count": 10,
      "outputs": []
    },
    {
      "cell_type": "code",
      "source": [
        "# Train the Model\n",
        "history = model.fit(\n",
        "    X_train_res, y_train_res,\n",
        "    validation_data=(X_val, y_val),\n",
        "    epochs=100,\n",
        "    batch_size=512,\n",
        "    callbacks=[es, mc],\n",
        "    verbose=2\n",
        ")\n"
      ],
      "metadata": {
        "colab": {
          "base_uri": "https://localhost:8080/"
        },
        "id": "aoxuPKEuE4FC",
        "outputId": "1969a936-e9ce-4d44-f26a-3228f792c112"
      },
      "execution_count": 11,
      "outputs": [
        {
          "output_type": "stream",
          "name": "stdout",
          "text": [
            "Epoch 1/100\n",
            "\n",
            "Epoch 1: val_auc improved from -inf to 0.78636, saving model to keras_default_pred.h5\n"
          ]
        },
        {
          "output_type": "stream",
          "name": "stderr",
          "text": [
            "WARNING:absl:You are saving your model as an HDF5 file via `model.save()` or `keras.saving.save_model(model)`. This file format is considered legacy. We recommend using instead the native Keras format, e.g. `model.save('my_model.keras')` or `keras.saving.save_model(model, 'my_model.keras')`. \n"
          ]
        },
        {
          "output_type": "stream",
          "name": "stdout",
          "text": [
            "4197/4197 - 62s - 15ms/step - auc: 0.7785 - loss: 0.5392 - val_auc: 0.7864 - val_loss: 0.5558\n",
            "Epoch 2/100\n",
            "\n",
            "Epoch 2: val_auc improved from 0.78636 to 0.78664, saving model to keras_default_pred.h5\n"
          ]
        },
        {
          "output_type": "stream",
          "name": "stderr",
          "text": [
            "WARNING:absl:You are saving your model as an HDF5 file via `model.save()` or `keras.saving.save_model(model)`. This file format is considered legacy. We recommend using instead the native Keras format, e.g. `model.save('my_model.keras')` or `keras.saving.save_model(model, 'my_model.keras')`. \n"
          ]
        },
        {
          "output_type": "stream",
          "name": "stdout",
          "text": [
            "4197/4197 - 57s - 14ms/step - auc: 0.7856 - loss: 0.5295 - val_auc: 0.7866 - val_loss: 0.5560\n",
            "Epoch 3/100\n",
            "\n",
            "Epoch 3: val_auc did not improve from 0.78664\n",
            "4197/4197 - 56s - 13ms/step - auc: 0.7861 - loss: 0.5285 - val_auc: 0.7866 - val_loss: 0.5491\n",
            "Epoch 4/100\n",
            "\n",
            "Epoch 4: val_auc did not improve from 0.78664\n",
            "4197/4197 - 60s - 14ms/step - auc: 0.7864 - loss: 0.5280 - val_auc: 0.7865 - val_loss: 0.5465\n",
            "Epoch 5/100\n",
            "\n",
            "Epoch 5: val_auc improved from 0.78664 to 0.78672, saving model to keras_default_pred.h5\n"
          ]
        },
        {
          "output_type": "stream",
          "name": "stderr",
          "text": [
            "WARNING:absl:You are saving your model as an HDF5 file via `model.save()` or `keras.saving.save_model(model)`. This file format is considered legacy. We recommend using instead the native Keras format, e.g. `model.save('my_model.keras')` or `keras.saving.save_model(model, 'my_model.keras')`. \n"
          ]
        },
        {
          "output_type": "stream",
          "name": "stdout",
          "text": [
            "4197/4197 - 56s - 13ms/step - auc: 0.7865 - loss: 0.5279 - val_auc: 0.7867 - val_loss: 0.5505\n",
            "Epoch 6/100\n",
            "\n",
            "Epoch 6: val_auc improved from 0.78672 to 0.78676, saving model to keras_default_pred.h5\n"
          ]
        },
        {
          "output_type": "stream",
          "name": "stderr",
          "text": [
            "WARNING:absl:You are saving your model as an HDF5 file via `model.save()` or `keras.saving.save_model(model)`. This file format is considered legacy. We recommend using instead the native Keras format, e.g. `model.save('my_model.keras')` or `keras.saving.save_model(model, 'my_model.keras')`. \n"
          ]
        },
        {
          "output_type": "stream",
          "name": "stdout",
          "text": [
            "4197/4197 - 56s - 13ms/step - auc: 0.7866 - loss: 0.5278 - val_auc: 0.7868 - val_loss: 0.5515\n",
            "Epoch 7/100\n",
            "\n",
            "Epoch 7: val_auc did not improve from 0.78676\n",
            "4197/4197 - 58s - 14ms/step - auc: 0.7867 - loss: 0.5276 - val_auc: 0.7867 - val_loss: 0.5498\n",
            "Epoch 8/100\n",
            "\n",
            "Epoch 8: val_auc did not improve from 0.78676\n",
            "4197/4197 - 57s - 14ms/step - auc: 0.7868 - loss: 0.5276 - val_auc: 0.7868 - val_loss: 0.5510\n",
            "Epoch 9/100\n",
            "\n",
            "Epoch 9: val_auc did not improve from 0.78676\n",
            "4197/4197 - 57s - 13ms/step - auc: 0.7869 - loss: 0.5275 - val_auc: 0.7866 - val_loss: 0.5425\n",
            "Epoch 10/100\n",
            "\n",
            "Epoch 10: val_auc improved from 0.78676 to 0.78679, saving model to keras_default_pred.h5\n"
          ]
        },
        {
          "output_type": "stream",
          "name": "stderr",
          "text": [
            "WARNING:absl:You are saving your model as an HDF5 file via `model.save()` or `keras.saving.save_model(model)`. This file format is considered legacy. We recommend using instead the native Keras format, e.g. `model.save('my_model.keras')` or `keras.saving.save_model(model, 'my_model.keras')`. \n"
          ]
        },
        {
          "output_type": "stream",
          "name": "stdout",
          "text": [
            "4197/4197 - 62s - 15ms/step - auc: 0.7869 - loss: 0.5275 - val_auc: 0.7868 - val_loss: 0.5435\n",
            "Epoch 11/100\n",
            "\n",
            "Epoch 11: val_auc did not improve from 0.78679\n",
            "4197/4197 - 56s - 13ms/step - auc: 0.7870 - loss: 0.5274 - val_auc: 0.7866 - val_loss: 0.5451\n",
            "Epoch 12/100\n",
            "\n",
            "Epoch 12: val_auc did not improve from 0.78679\n",
            "4197/4197 - 57s - 13ms/step - auc: 0.7871 - loss: 0.5273 - val_auc: 0.7867 - val_loss: 0.5461\n",
            "Epoch 13/100\n",
            "\n",
            "Epoch 13: val_auc improved from 0.78679 to 0.78693, saving model to keras_default_pred.h5\n"
          ]
        },
        {
          "output_type": "stream",
          "name": "stderr",
          "text": [
            "WARNING:absl:You are saving your model as an HDF5 file via `model.save()` or `keras.saving.save_model(model)`. This file format is considered legacy. We recommend using instead the native Keras format, e.g. `model.save('my_model.keras')` or `keras.saving.save_model(model, 'my_model.keras')`. \n"
          ]
        },
        {
          "output_type": "stream",
          "name": "stdout",
          "text": [
            "4197/4197 - 55s - 13ms/step - auc: 0.7871 - loss: 0.5272 - val_auc: 0.7869 - val_loss: 0.5427\n",
            "Epoch 14/100\n",
            "\n",
            "Epoch 14: val_auc did not improve from 0.78693\n",
            "4197/4197 - 55s - 13ms/step - auc: 0.7872 - loss: 0.5272 - val_auc: 0.7867 - val_loss: 0.5424\n",
            "Epoch 15/100\n",
            "\n",
            "Epoch 15: val_auc did not improve from 0.78693\n",
            "4197/4197 - 56s - 13ms/step - auc: 0.7871 - loss: 0.5272 - val_auc: 0.7866 - val_loss: 0.5422\n",
            "Epoch 16/100\n",
            "\n",
            "Epoch 16: val_auc did not improve from 0.78693\n",
            "4197/4197 - 57s - 14ms/step - auc: 0.7871 - loss: 0.5272 - val_auc: 0.7868 - val_loss: 0.5478\n",
            "Epoch 17/100\n",
            "\n",
            "Epoch 17: val_auc improved from 0.78693 to 0.78697, saving model to keras_default_pred.h5\n"
          ]
        },
        {
          "output_type": "stream",
          "name": "stderr",
          "text": [
            "WARNING:absl:You are saving your model as an HDF5 file via `model.save()` or `keras.saving.save_model(model)`. This file format is considered legacy. We recommend using instead the native Keras format, e.g. `model.save('my_model.keras')` or `keras.saving.save_model(model, 'my_model.keras')`. \n"
          ]
        },
        {
          "output_type": "stream",
          "name": "stdout",
          "text": [
            "4197/4197 - 56s - 13ms/step - auc: 0.7871 - loss: 0.5272 - val_auc: 0.7870 - val_loss: 0.5495\n",
            "Epoch 18/100\n",
            "\n",
            "Epoch 18: val_auc did not improve from 0.78697\n",
            "4197/4197 - 55s - 13ms/step - auc: 0.7872 - loss: 0.5272 - val_auc: 0.7869 - val_loss: 0.5457\n",
            "Epoch 19/100\n",
            "\n",
            "Epoch 19: val_auc did not improve from 0.78697\n",
            "4197/4197 - 55s - 13ms/step - auc: 0.7872 - loss: 0.5271 - val_auc: 0.7868 - val_loss: 0.5421\n",
            "Epoch 20/100\n",
            "\n",
            "Epoch 20: val_auc did not improve from 0.78697\n",
            "4197/4197 - 58s - 14ms/step - auc: 0.7873 - loss: 0.5271 - val_auc: 0.7868 - val_loss: 0.5442\n",
            "Epoch 21/100\n",
            "\n",
            "Epoch 21: val_auc did not improve from 0.78697\n",
            "4197/4197 - 58s - 14ms/step - auc: 0.7873 - loss: 0.5271 - val_auc: 0.7868 - val_loss: 0.5496\n",
            "Epoch 22/100\n",
            "\n",
            "Epoch 22: val_auc did not improve from 0.78697\n",
            "4197/4197 - 58s - 14ms/step - auc: 0.7873 - loss: 0.5271 - val_auc: 0.7868 - val_loss: 0.5481\n",
            "Epoch 23/100\n",
            "\n",
            "Epoch 23: val_auc did not improve from 0.78697\n",
            "4197/4197 - 56s - 13ms/step - auc: 0.7873 - loss: 0.5271 - val_auc: 0.7869 - val_loss: 0.5420\n",
            "Epoch 24/100\n",
            "\n",
            "Epoch 24: val_auc did not improve from 0.78697\n",
            "4197/4197 - 56s - 13ms/step - auc: 0.7873 - loss: 0.5271 - val_auc: 0.7866 - val_loss: 0.5461\n",
            "Epoch 25/100\n",
            "\n",
            "Epoch 25: val_auc did not improve from 0.78697\n",
            "4197/4197 - 58s - 14ms/step - auc: 0.7873 - loss: 0.5270 - val_auc: 0.7866 - val_loss: 0.5436\n",
            "Epoch 25: early stopping\n",
            "Restoring model weights from the end of the best epoch: 17.\n"
          ]
        }
      ]
    },
    {
      "cell_type": "code",
      "source": [
        "# Load Best Model and Evaluate Performance on Test Set\n",
        "model = tf.keras.models.load_model(\"keras_default_pred.h5\")\n",
        "p_test = model.predict(X_test, batch_size=512).ravel()\n",
        "y_pred = (p_test >= 0.5).astype(int)\n",
        "\n",
        "print(f\"AUC: {roc_auc_score(y_test, p_test):.4f}\")\n",
        "print(f\"F1: {f1_score(y_test, y_pred):.4f}\")\n",
        "print(f\"Accuracy: {accuracy_score(y_test, y_pred):.4f}\")\n",
        "print(\"Confusion matrix:\\n\", confusion_matrix(y_test, y_pred))\n"
      ],
      "metadata": {
        "colab": {
          "base_uri": "https://localhost:8080/"
        },
        "id": "nA_FsCM5PX4n",
        "outputId": "da0dbeb5-430a-442a-c16d-37c79b8d16ac"
      },
      "execution_count": 12,
      "outputs": [
        {
          "output_type": "stream",
          "name": "stderr",
          "text": [
            "WARNING:absl:Compiled the loaded model, but the compiled metrics have yet to be built. `model.compile_metrics` will be empty until you train or evaluate the model.\n"
          ]
        },
        {
          "output_type": "stream",
          "name": "stdout",
          "text": [
            "\u001b[1m529/529\u001b[0m \u001b[32m━━━━━━━━━━━━━━━━━━━━\u001b[0m\u001b[37m\u001b[0m \u001b[1m2s\u001b[0m 4ms/step\n",
            "AUC: 0.7880\n",
            "F1: 0.4072\n",
            "Accuracy: 0.6590\n",
            "Confusion matrix:\n",
            " [[146578  83618]\n",
            " [  8605  31674]]\n"
          ]
        }
      ]
    },
    {
      "cell_type": "code",
      "source": [
        "# Plot ROC Curve for Model Performance Visualization\n",
        "fpr, tpr, _ = roc_curve(y_test, p_test)\n",
        "plt.figure(figsize=(5,4))\n",
        "plt.plot(fpr, tpr, label=f\"AUC={roc_auc_score(y_test, p_test):.3f}\")\n",
        "plt.plot([0,1],[0,1],'--',color='gray')\n",
        "plt.xlabel(\"False Positive Rate\")\n",
        "plt.ylabel(\"True Positive Rate\")\n",
        "plt.title(\"ROC Curve - Default Prediction MLP\")\n",
        "plt.legend()\n",
        "plt.show()\n"
      ],
      "metadata": {
        "colab": {
          "base_uri": "https://localhost:8080/",
          "height": 410
        },
        "id": "HL6Gi2mOFtsB",
        "outputId": "85ba9708-2470-4f5e-ff8a-e927de22fb34"
      },
      "execution_count": 13,
      "outputs": [
        {
          "output_type": "display_data",
          "data": {
            "text/plain": [
              "<Figure size 500x400 with 1 Axes>"
            ],
            "image/png": "[encoded data removed]"
          },
          "metadata": {}
        }
      ]
    },
    {
      "cell_type": "code",
      "source": [
        "# Save Test Predictions for Offline RL Pipeline\n",
        "out = pd.DataFrame({\n",
        "    \"y_true\": y_test,\n",
        "    \"p_default\": p_test\n",
        "})\n",
        "out.to_csv(\"test_predictions.csv\", index=False)\n",
        "print(\"Saved test predictions to test_predictions.csv\")\n"
      ],
      "metadata": {
        "colab": {
          "base_uri": "https://localhost:8080/"
        },
        "id": "DH_agW5uFxjH",
        "outputId": "2c061568-3b23-4859-e0f3-995f10830748"
      },
      "execution_count": 14,
      "outputs": [
        {
          "output_type": "stream",
          "name": "stdout",
          "text": [
            "Saved test predictions to test_predictions.csv\n"
          ]
        }
      ]
    },
    {
      "cell_type": "code",
      "source": [],
      "metadata": {
        "id": "Itzgt2QvHAu7"
      },
      "execution_count": 14,
      "outputs": []
    }
  ]
}
